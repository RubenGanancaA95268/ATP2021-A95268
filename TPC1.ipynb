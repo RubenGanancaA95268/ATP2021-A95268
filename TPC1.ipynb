{
 "cells": [
  {
   "cell_type": "code",
   "execution_count": 46,
   "metadata": {},
   "outputs": [
    {
     "name": "stdin",
     "output_type": "stream",
     "text": [
      "Se quiser jogar primeiro pressione 'H',caso queira que comece o computador pressione 'C':  c\n"
     ]
    },
    {
     "name": "stdout",
     "output_type": "stream",
     "text": [
      "O computador retirou 2 e sobraram 19 fósforos!\n"
     ]
    },
    {
     "name": "stdin",
     "output_type": "stream",
     "text": [
      "Quantos fósforos quer tirar:  3\n"
     ]
    },
    {
     "name": "stdout",
     "output_type": "stream",
     "text": [
      "Restam 16 fósforos!\n",
      "O computador retirou 2 e sobraram 14 fósforos!\n"
     ]
    },
    {
     "name": "stdin",
     "output_type": "stream",
     "text": [
      "Quantos fósforos quer tirar:  3\n"
     ]
    },
    {
     "name": "stdout",
     "output_type": "stream",
     "text": [
      "Restam 11 fósforos!\n",
      "O computador retirou 1 e sobraram 10 fósforos!\n"
     ]
    },
    {
     "name": "stdin",
     "output_type": "stream",
     "text": [
      "Quantos fósforos quer tirar:  4\n"
     ]
    },
    {
     "name": "stdout",
     "output_type": "stream",
     "text": [
      "Restam 6 fósforos!\n",
      "O computador retirou 1 e sobraram 5 fósforos!\n"
     ]
    },
    {
     "name": "stdin",
     "output_type": "stream",
     "text": [
      "Quantos fósforos quer tirar:  4\n"
     ]
    },
    {
     "name": "stdout",
     "output_type": "stream",
     "text": [
      "Restam 1 fósforos!\n",
      "Você ganhou!\n"
     ]
    }
   ],
   "source": [
    "import random\n",
    "def fosforos(fosforos_restantes):\n",
    "    jogador= input(\"Se quiser jogar primeiro pressione 'H',caso queira que comece o computador pressione 'C': \")\n",
    "    if(jogador==\"h\" or jogador==\"H\"):\n",
    "        while(fosforos_restantes>=1):\n",
    "            fosforos_h= int(input(\"Quantos fósforos quer tirar: \"))\n",
    "            if(fosforos_h<1 or fosforos_h>4):\n",
    "                print(\"Não pode retirar mais de 4 fósforos de cada vez ou menos do que 1!\")\n",
    "                break\n",
    "            fosforos_restantes=fosforos_restantes-fosforos_h\n",
    "            print(\"Restam\",fosforos_restantes,\"fósforos!\")\n",
    "            fosforos_c= 5-fosforos_h\n",
    "            fosforos_restantes=fosforos_restantes-fosforos_c\n",
    "            print(\"O computador retirou\",fosforos_c,\"e sobram\",fosforos_restantes,\"fósforos\")\n",
    "\n",
    "            if(fosforos_restantes==1):\n",
    "                print(\"Você perdeu!\")\n",
    "                break\n",
    "    elif (jogador==\"c\" or jogador==\"C\"):\n",
    "        while(fosforos_restantes>=1):\n",
    "            if(fosforos_restantes==2 or fosforos_restantes==3 or fosforos_restantes==4 or fosforos_restantes==5):\n",
    "                fosforos_c=fosforos_restantes-1\n",
    "                print(\"O computador retirou\",fosforos_c)\n",
    "                print(\"Você perdeu!\")\n",
    "                break\n",
    "            elif(fosforos_restantes==1):\n",
    "                print(\"Você ganhou!\")\n",
    "                break\n",
    "            fosforos_c= random.randint(1,4)\n",
    "            fosforos_restantes=fosforos_restantes-fosforos_c\n",
    "            print(\"O computador retirou\",fosforos_c,\"e sobraram\",fosforos_restantes,\"fósforos!\")\n",
    "            fosforos_h=int(input(\"Quantos fósforos quer tirar: \"))\n",
    "            if(fosforos_h<1 or fosforos_h>4):\n",
    "                print(\"Não pode retirar mais de 4 fósforos de cada vez ou menos do que 1!\")\n",
    "                break\n",
    "            fosforos_restantes=fosforos_restantes-fosforos_h\n",
    "            print(\"Restam\",fosforos_restantes,\"fósforos!\")\n",
    "fosforos(21)"
   ]
  },
  {
   "cell_type": "code",
   "execution_count": null,
   "metadata": {},
   "outputs": [],
   "source": []
  },
  {
   "cell_type": "code",
   "execution_count": null,
   "metadata": {},
   "outputs": [],
   "source": []
  }
 ],
 "metadata": {
  "kernelspec": {
   "display_name": "Python 3",
   "language": "python",
   "name": "python3"
  },
  "language_info": {
   "codemirror_mode": {
    "name": "ipython",
    "version": 3
   },
   "file_extension": ".py",
   "mimetype": "text/x-python",
   "name": "python",
   "nbconvert_exporter": "python",
   "pygments_lexer": "ipython3",
   "version": "3.8.3"
  }
 },
 "nbformat": 4,
 "nbformat_minor": 4
}
