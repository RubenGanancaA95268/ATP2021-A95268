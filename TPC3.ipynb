{
 "cells": [
  {
   "cell_type": "markdown",
   "metadata": {},
   "source": [
    "# __TPC3__: Função BubbleSort\n",
    "#### __Aluno__: Rúben Filipe Pereira Ganança, A95268\n",
    "#### __Data de início__: 2021-10-23\n",
    "#### __Data de término__: 2021-10-27\n",
    "#### __Supervisor__: José Carlos Ramalho\n",
    "#### __Resumo__: De inicio foi criada uma função __\"bubbleSort\"__ ,que recebe como parametro uma lista, inicialmente com números não ordenados, e com o objetivo de retornar a mesma mas organizada por ordem crescente. \n",
    "####    Deste modo foi criada uma variável __\"trocado\"__ com valor lógico de \"True\" e foi também criado um ciclo de While que é corrido enquanto esta variável mantiver este valor lógico. \n",
    "####    Assim sendo, na primeira linha de código, dentro do ciclo While, esta variável muda o valor lógico para \"False\" e apenas é mudado para \"True\" se efetivamente houver uma troca de posição dos valores na lista, isto é, se o número de índice inferior na lista for maior que o número de índice que o sucede, há então uma troca entre os dois.\n",
    "####    O ciclo de while e a ordenação acabam quando for detetado na lista que já não é preciso ser feita mais nenhuma troca."
   ]
  },
  {
   "cell_type": "code",
   "execution_count": 7,
   "metadata": {},
   "outputs": [
    {
     "name": "stdout",
     "output_type": "stream",
     "text": [
      "A lista inicial é: [7, 15, 38, 12, 56, 32, 2, 1]\n",
      "A lista organizada por ordem crescente é: [1, 2, 7, 12, 15, 32, 38, 56]\n"
     ]
    }
   ],
   "source": [
    "def bubbleSort(lista):\n",
    "    trocado=True\n",
    "    while(trocado):\n",
    "        trocado=False\n",
    "        i=0\n",
    "        for i in range(len(lista)-1):\n",
    "            if (lista[i]>lista[i+1]):\n",
    "                temp=lista[i]\n",
    "                lista[i]=lista[i+1]\n",
    "                lista[i+1]=temp\n",
    "                trocado=True\n",
    "    return lista\n",
    "\n",
    "Lista=[7,15,38,12,56,32,2,1]\n",
    "print(\"A lista inicial é:\",Lista)\n",
    "print(\"A lista organizada por ordem crescente é:\",bubbleSort(Lista))"
   ]
  },
  {
   "cell_type": "code",
   "execution_count": null,
   "metadata": {},
   "outputs": [],
   "source": []
  },
  {
   "cell_type": "code",
   "execution_count": null,
   "metadata": {},
   "outputs": [],
   "source": []
  }
 ],
 "metadata": {
  "kernelspec": {
   "display_name": "Python 3",
   "language": "python",
   "name": "python3"
  },
  "language_info": {
   "codemirror_mode": {
    "name": "ipython",
    "version": 3
   },
   "file_extension": ".py",
   "mimetype": "text/x-python",
   "name": "python",
   "nbconvert_exporter": "python",
   "pygments_lexer": "ipython3",
   "version": "3.8.3"
  }
 },
 "nbformat": 4,
 "nbformat_minor": 4
}
