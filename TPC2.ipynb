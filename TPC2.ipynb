{
 "cells": [
  {
   "cell_type": "markdown",
   "metadata": {},
   "source": [
    "# __TPC2__: Adivinha o número\n",
    "#### __Aluno__: Rúben Filipe Pereira Ganança, A95268\n",
    "#### __Data de início__: 2021-10-18\n",
    "#### __Data de término__: 2021-10-20\n",
    "#### __Supervisor__: José Carlos Ramalho\n",
    "#### __Resumo__: De inicio foi criada uma função __\"adivinha\"__ ,cujo objetivo é tentar adivinhar o número que o utilizador introduziu no menor número de tentativas possível. Assim sendo, o método usado foi o da procura binária em que o extremo superior é 100 e o inferior 0. \n",
    "####    Posteriormente foi criado um ciclo __\"while\"__ , de maneira a reduzir o intervalo de procura por este número: Se o número for superior ao que foi indicado pelo computador então o ínfimo deixa de ser 0 para passar a ser o valor referido (o contrário acontece se o valor for inferior ao indicado). \n",
    "####    O ciclo de while e a procura acabam quando a variável __existir__ com o valor lógico inicialmente de \"False\" for indicada como sendo \"True\" aquando o encontro do número pelo computador."
   ]
  },
  {
   "cell_type": "code",
   "execution_count": 37,
   "metadata": {},
   "outputs": [
    {
     "name": "stdin",
     "output_type": "stream",
     "text": [
      "Introduza um número entre 0 e 100: 46\n",
      "Diga se o número é maior, menor ou igual a 50: menor\n"
     ]
    },
    {
     "name": "stdout",
     "output_type": "stream",
     "text": [
      "Número de tentativas: 1\n"
     ]
    },
    {
     "name": "stdin",
     "output_type": "stream",
     "text": [
      "Diga se o número é maior, menor ou igual a 25: maior\n"
     ]
    },
    {
     "name": "stdout",
     "output_type": "stream",
     "text": [
      "Número de tentativas: 2\n"
     ]
    },
    {
     "name": "stdin",
     "output_type": "stream",
     "text": [
      "Diga se o número é maior, menor ou igual a 37: maior\n"
     ]
    },
    {
     "name": "stdout",
     "output_type": "stream",
     "text": [
      "Número de tentativas: 3\n"
     ]
    },
    {
     "name": "stdin",
     "output_type": "stream",
     "text": [
      "Diga se o número é maior, menor ou igual a 43: maior\n"
     ]
    },
    {
     "name": "stdout",
     "output_type": "stream",
     "text": [
      "Número de tentativas: 4\n"
     ]
    },
    {
     "name": "stdin",
     "output_type": "stream",
     "text": [
      "Diga se o número é maior, menor ou igual a 46: igual\n"
     ]
    },
    {
     "name": "stdout",
     "output_type": "stream",
     "text": [
      "O número é: 46\n"
     ]
    }
   ],
   "source": [
    "def adivinha(maximo,minimo,numero):\n",
    "    contador=0\n",
    "    existir=False\n",
    "    while (minimo <= maximo and existir==False):\n",
    "        meio = (minimo + maximo) // 2\n",
    "        procura=input(\"Diga se o número é maior, menor ou igual a \"+str(meio)+\":\")\n",
    "        if (procura == \"igual\"):\n",
    "            print(\"O número é:\",numero)\n",
    "            existir=True\n",
    "        elif (procura==\"menor\"):\n",
    "            maximo = meio \n",
    "            contador+=1\n",
    "            print(\"Número de tentativas:\",contador)\n",
    "            existir=False\n",
    "        elif(procura==\"maior\"):\n",
    "            minimo = meio \n",
    "            contador+=1\n",
    "            print(\"Número de tentativas:\",contador)\n",
    "            existir=False\n",
    "numero_adivinhar=int(input(\"Introduza um número entre 0 e 100:\"))\n",
    "adivinha(100,0,numero_adivinhar)"
   ]
  },
  {
   "cell_type": "code",
   "execution_count": null,
   "metadata": {},
   "outputs": [],
   "source": []
  }
 ],
 "metadata": {
  "kernelspec": {
   "display_name": "Python 3",
   "language": "python",
   "name": "python3"
  },
  "language_info": {
   "codemirror_mode": {
    "name": "ipython",
    "version": 3
   },
   "file_extension": ".py",
   "mimetype": "text/x-python",
   "name": "python",
   "nbconvert_exporter": "python",
   "pygments_lexer": "ipython3",
   "version": "3.8.3"
  }
 },
 "nbformat": 4,
 "nbformat_minor": 4
}
