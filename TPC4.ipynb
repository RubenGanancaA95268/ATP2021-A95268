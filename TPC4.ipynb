{
 "cells": [
  {
   "cell_type": "markdown",
   "metadata": {},
   "source": [
    "# __TPC4__: Manipulação de frações "
   ]
  },
  {
   "cell_type": "markdown",
   "metadata": {},
   "source": [
    "# __TPC4__: Calculadora\n",
    "#### __Aluno__: Rúben Filipe Pereira Ganança, A95268\n",
    "#### __Data de início__: 2021-11-07\n",
    "#### __Data de término__: 2021-11-10\n",
    "#### __Supervisor__: José Carlos Ramalho ; https://www.di.uminho.pt/~jcr/\n",
    "#### __Resumo__: Inicialmente foi criado um \"Menu\" aonde estão dispostas as várias operações que a calculadora pode executar, escolhendo de seguida o utilizador a operação que pretende fazer.\n",
    "#### Posteriormente foram criadas funções com o intuito de criar frações e de as reduzir o máximo possível, tendo sido preciso recorrer ao *mdc*.\n",
    "#### Depois das frações terem sido criadas, foram também criadas *duas funções* para cada tipo de operação da calculadora, tendo uma o efeito de fazer a operação requerida e a outra de a mostrar ao utilizador, sendo esta última a função que vai ser *chamada* na calculadora.\n",
    "#### Desta forma, a calculadora apresenta 4 operações diferentes e ainda uma opção para sair e não serem mais efetuadas nenhuma operação. "
   ]
  },
  {
   "cell_type": "code",
   "execution_count": 67,
   "metadata": {},
   "outputs": [
    {
     "name": "stdout",
     "output_type": "stream",
     "text": [
      "\n",
      "(1) Somar frações\n",
      "(2) Subtrair frações\n",
      "(3) Multiplicar frações \n",
      "(4) Dividir frações\n",
      "...\n",
      "(0) Sair\n",
      "    \n"
     ]
    },
    {
     "name": "stdin",
     "output_type": "stream",
     "text": [
      "Qual o número da operação que deseja fazer: 1\n",
      "Qual o númerador da primeira fração: 2\n",
      "Qual o denominador da primeira fração: 3\n",
      "Qual o númerador da segunda fração: 4\n",
      "Qual o denominador da segunda fração: 5\n"
     ]
    },
    {
     "name": "stdout",
     "output_type": "stream",
     "text": [
      "22 / 15\n"
     ]
    },
    {
     "name": "stdin",
     "output_type": "stream",
     "text": [
      "Qual o número da operação que deseja fazer: 2\n",
      "Qual o númerador da primeira fração: 5\n",
      "Qual o denominador da primeira fração: 4\n",
      "Qual o númerador da segunda fração: 3\n",
      "Qual o denominador da segunda fração: 2\n"
     ]
    },
    {
     "name": "stdout",
     "output_type": "stream",
     "text": [
      "1 / -4\n"
     ]
    },
    {
     "name": "stdin",
     "output_type": "stream",
     "text": [
      "Qual o número da operação que deseja fazer: 3\n",
      "Qual o númerador da primeira fração: 2\n",
      "Qual o denominador da primeira fração: 3\n",
      "Qual o númerador da segunda fração: 4\n",
      "Qual o denominador da segunda fração: 2\n"
     ]
    },
    {
     "name": "stdout",
     "output_type": "stream",
     "text": [
      "4 / 3\n"
     ]
    },
    {
     "name": "stdin",
     "output_type": "stream",
     "text": [
      "Qual o número da operação que deseja fazer: 4\n",
      "Qual o númerador da primeira fração: 3\n",
      "Qual o denominador da primeira fração: 4\n",
      "Qual o númerador da segunda fração: 2\n",
      "Qual o denominador da segunda fração: 3\n"
     ]
    },
    {
     "name": "stdout",
     "output_type": "stream",
     "text": [
      "9 / 8\n"
     ]
    },
    {
     "name": "stdin",
     "output_type": "stream",
     "text": [
      "Qual o número da operação que deseja fazer: 0\n"
     ]
    }
   ],
   "source": [
    "def menu():\n",
    "    print('''\n",
    "(1) Somar frações\n",
    "(2) Subtrair frações\n",
    "(3) Multiplicar frações \n",
    "(4) Dividir frações\n",
    "...\n",
    "(0) Sair\n",
    "    ''')\n",
    "menu()\n",
    "#opcao=\"-1\"\n",
    "#while (opcao != \"0\"):\n",
    "    #opcao=input(\"Introduza uma opção:\")\n",
    "def escolha():\n",
    "    opcao=int(input(\"Qual o número da operação que deseja fazer:\"))\n",
    "    if opcao==1:\n",
    "        soma()\n",
    "    elif opcao==2:\n",
    "        subtracao()\n",
    "    elif opcao==3:\n",
    "        multiplicar()\n",
    "    elif opcao==4:\n",
    "        dividir()\n",
    "    elif opcao==0:\n",
    "        return -1\n",
    "    else:\n",
    "        print(\"Opção inválida!\")\n",
    "    escolha()\n",
    "escolha()  "
   ]
  },
  {
   "cell_type": "code",
   "execution_count": 19,
   "metadata": {},
   "outputs": [],
   "source": [
    "def criarFracao(numerador,denominador): #Vai retornar um tuplo\n",
    "    return(numerador,denominador)\n",
    "def verFracao(f):\n",
    "    n,d=f \n",
    "    print(n,\"/\",d)"
   ]
  },
  {
   "cell_type": "code",
   "execution_count": 20,
   "metadata": {},
   "outputs": [],
   "source": [
    "def mdc(a,b):\n",
    "    if(a<b):\n",
    "        return (mdc(b,a))\n",
    "    elif(a%b==0):\n",
    "        return b\n",
    "    else: \n",
    "        return (mdc(b,a%b))\n",
    "#print(mdc(21,140))\n",
    "\n",
    "def simplificarFracao(n,d):\n",
    "    m=mdc(n,d)\n",
    "    return(int(n/m),int(d/m)) #Para não manter os decimais\n"
   ]
  },
  {
   "cell_type": "code",
   "execution_count": 21,
   "metadata": {},
   "outputs": [
    {
     "name": "stdin",
     "output_type": "stream",
     "text": [
      "Qual o númerador da primeira fração: 1\n",
      "Qual o denominador da primeira fração: 3\n",
      "Qual o númerador da segunda fração: 2\n",
      "Qual o denominador da segunda fração: 3\n"
     ]
    },
    {
     "name": "stdout",
     "output_type": "stream",
     "text": [
      "1 / 1\n"
     ]
    }
   ],
   "source": [
    "def somarFrac(f1,f2):\n",
    "    n1,d1=f1\n",
    "    n2,d2=f2\n",
    "    return (simplificarFracao(((n1*d2)+(n2*d1)),(d1*d2)))\n",
    "def soma():\n",
    "    n1=int(input(\"Qual o númerador da primeira fração:\"))\n",
    "    d1=int(input(\"Qual o denominador da primeira fração:\"))\n",
    "    n2=int(input(\"Qual o númerador da segunda fração:\"))\n",
    "    d2=int(input(\"Qual o denominador da segunda fração:\"))\n",
    "    f1 =criarFracao(n1,d1) \n",
    "    f2=criarFracao(n2,d2)\n",
    "    verFracao(somarFrac(f1,f2))\n",
    "soma()"
   ]
  },
  {
   "cell_type": "code",
   "execution_count": 48,
   "metadata": {},
   "outputs": [
    {
     "name": "stdin",
     "output_type": "stream",
     "text": [
      "Qual o númerador da primeira fração: 5\n",
      "Qual o denominador da primeira fração: 3\n",
      "Qual o númerador da segunda fração: 2\n",
      "Qual o denominador da segunda fração: 3\n"
     ]
    },
    {
     "name": "stdout",
     "output_type": "stream",
     "text": [
      "1 / 1\n"
     ]
    }
   ],
   "source": [
    "def subtrairFrac(f1,f2):\n",
    "    n1,d1=f1\n",
    "    n2,d2=f2\n",
    "    return (simplificarFracao(((n1*d2)-(n2*d1)),(d1*d2)))\n",
    "def subtracao():\n",
    "    n1=int(input(\"Qual o númerador da primeira fração:\"))\n",
    "    d1=int(input(\"Qual o denominador da primeira fração:\"))\n",
    "    n2=int(input(\"Qual o númerador da segunda fração:\"))\n",
    "    d2=int(input(\"Qual o denominador da segunda fração:\"))\n",
    "    f1 =criarFracao(n1,d1) \n",
    "    f2=criarFracao(n2,d2)\n",
    "    verFracao(subtrairFrac(f1,f2))\n",
    "subtracao()"
   ]
  },
  {
   "cell_type": "code",
   "execution_count": 60,
   "metadata": {},
   "outputs": [
    {
     "name": "stdin",
     "output_type": "stream",
     "text": [
      "Qual o númerador da primeira fração: 2\n",
      "Qual o denominador da primeira fração: 3\n",
      "Qual o númerador da segunda fração: 5\n",
      "Qual o denominador da segunda fração: 4\n"
     ]
    },
    {
     "name": "stdout",
     "output_type": "stream",
     "text": [
      "5 / 6\n"
     ]
    }
   ],
   "source": [
    "def multFrac(f1,f2):\n",
    "    n1,d1=f1\n",
    "    n2,d2=f2\n",
    "    return (simplificarFracao(n1*n2,d1*d2))\n",
    "def multiplicar():\n",
    "    n1=int(input(\"Qual o númerador da primeira fração:\"))\n",
    "    d1=int(input(\"Qual o denominador da primeira fração:\"))\n",
    "    n2=int(input(\"Qual o númerador da segunda fração:\"))\n",
    "    d2=int(input(\"Qual o denominador da segunda fração:\"))\n",
    "    f1 =criarFracao(n1,d1) \n",
    "    f2=criarFracao(n2,d2)\n",
    "    verFracao(multFrac(f1,f2))\n",
    "multiplicar()"
   ]
  },
  {
   "cell_type": "code",
   "execution_count": 65,
   "metadata": {},
   "outputs": [
    {
     "name": "stdin",
     "output_type": "stream",
     "text": [
      "Qual o númerador da primeira fração: 4\n",
      "Qual o denominador da primeira fração: 5\n",
      "Qual o númerador da segunda fração: 3\n",
      "Qual o denominador da segunda fração: 8\n"
     ]
    },
    {
     "name": "stdout",
     "output_type": "stream",
     "text": [
      "32 / 15\n"
     ]
    }
   ],
   "source": [
    "def divFrac(f1,f2):\n",
    "    n1,d1=f1\n",
    "    n2,d2=f2\n",
    "    return (simplificarFracao(n1*d2,d1*n2))\n",
    "def dividir():\n",
    "    n1=int(input(\"Qual o númerador da primeira fração:\"))\n",
    "    d1=int(input(\"Qual o denominador da primeira fração:\"))\n",
    "    n2=int(input(\"Qual o númerador da segunda fração:\"))\n",
    "    d2=int(input(\"Qual o denominador da segunda fração:\"))\n",
    "    f1 =criarFracao(n1,d1) \n",
    "    f2=criarFracao(n2,d2)\n",
    "    verFracao(divFrac(f1,f2))\n",
    "dividir() "
   ]
  },
  {
   "cell_type": "code",
   "execution_count": null,
   "metadata": {},
   "outputs": [],
   "source": []
  },
  {
   "cell_type": "code",
   "execution_count": null,
   "metadata": {},
   "outputs": [],
   "source": []
  }
 ],
 "metadata": {
  "kernelspec": {
   "display_name": "Python 3",
   "language": "python",
   "name": "python3"
  },
  "language_info": {
   "codemirror_mode": {
    "name": "ipython",
    "version": 3
   },
   "file_extension": ".py",
   "mimetype": "text/x-python",
   "name": "python",
   "nbconvert_exporter": "python",
   "pygments_lexer": "ipython3",
   "version": "3.8.3"
  }
 },
 "nbformat": 4,
 "nbformat_minor": 4
}
