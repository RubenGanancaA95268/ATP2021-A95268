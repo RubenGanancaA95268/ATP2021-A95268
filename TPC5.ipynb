{
 "cells": [
  {
   "cell_type": "markdown",
   "metadata": {},
   "source": [
    "# __TPC5__: Calculadora de Polinómios\n"
   ]
  },
  {
   "cell_type": "markdown",
   "metadata": {},
   "source": [
    "#### __Aluno__: Rúben Filipe Pereira Ganança, A95268\n",
    "#### __Data de início__: 2021-11-13\n",
    "#### __Data de término__: 2021-11-18\n",
    "#### __Supervisor__: José Carlos Ramalho ; https://www.di.uminho.pt/~jcr/\n",
    "#### __Resumo__: Inicialmente foi criado um \"Menu\" aonde estão dispostas as várias operações que a calculadora pode executar, escolhendo de seguida o utilizador a operação que pretende fazer, começando ele por criar um polinómio.\n",
    "#### Posteriormente foram criadas funções com o intuito de, a partir desse polinómio, fazer várias operações recorrendo a funções auxiliares.\n",
    "#### Desta forma, a calculadora apresenta 6 operações diferentes e ainda uma opção para sair e não serem mais efetuadas nenhuma operação. "
   ]
  },
  {
   "cell_type": "code",
   "execution_count": 173,
   "metadata": {},
   "outputs": [
    {
     "name": "stdout",
     "output_type": "stream",
     "text": [
      "\n",
      "(1) Criar um Polinómio\n",
      "(2) Grau do Polinómio\n",
      "(3) Calcular o Polinómio num ponto\n",
      "(4) Calcular a derivada de um Polinómio\n",
      "(5) Simplificar um Polinómio\n",
      "(6) Ver a Tabela\n",
      "...\n",
      "(0) Sair\n",
      "    \n"
     ]
    },
    {
     "name": "stdin",
     "output_type": "stream",
     "text": [
      "Qual o número da operação que deseja fazer: 1\n",
      "Quer um polinómio com quantos termos:  3\n",
      "Diga qual o coeficiente do Termo: 2\n",
      "Diga qual o expoente do Termo:  3\n",
      "Diga qual o coeficiente do Termo: 4\n",
      "Diga qual o expoente do Termo:  3\n",
      "Diga qual o coeficiente do Termo: 6\n",
      "Diga qual o expoente do Termo:  0\n"
     ]
    },
    {
     "name": "stdout",
     "output_type": "stream",
     "text": [
      "2x^3+4x^3+6\n"
     ]
    },
    {
     "name": "stdin",
     "output_type": "stream",
     "text": [
      "Qual o número da operação que deseja fazer: 2\n"
     ]
    },
    {
     "name": "stdout",
     "output_type": "stream",
     "text": [
      "3\n"
     ]
    },
    {
     "name": "stdin",
     "output_type": "stream",
     "text": [
      "Qual o número da operação que deseja fazer: 3\n",
      "Indique o ponto aonde quer que seja calculado o Polinómio: 5\n"
     ]
    },
    {
     "name": "stdout",
     "output_type": "stream",
     "text": [
      "756\n"
     ]
    },
    {
     "name": "stdin",
     "output_type": "stream",
     "text": [
      "Qual o número da operação que deseja fazer: 4\n"
     ]
    },
    {
     "name": "stdout",
     "output_type": "stream",
     "text": [
      "6x^2+12x^2\n"
     ]
    },
    {
     "name": "stdin",
     "output_type": "stream",
     "text": [
      "Qual o número da operação que deseja fazer: 5\n"
     ]
    },
    {
     "name": "stdout",
     "output_type": "stream",
     "text": [
      "6x^3+6\n"
     ]
    },
    {
     "name": "stdin",
     "output_type": "stream",
     "text": [
      "Qual o número da operação que deseja fazer: 6\n",
      "Introduza o número de linhas da tabela: 5\n"
     ]
    },
    {
     "name": "stdout",
     "output_type": "stream",
     "text": [
      "x::2x^3+4x^3+6\n",
      "0::6\n",
      "1::12\n",
      "2::54\n",
      "3::168\n",
      "4::390\n"
     ]
    },
    {
     "name": "stdin",
     "output_type": "stream",
     "text": [
      "Qual o número da operação que deseja fazer: 0\n"
     ]
    }
   ],
   "source": [
    "def menu():\n",
    "    print('''\n",
    "(1) Criar um Polinómio\n",
    "(2) Grau do Polinómio\n",
    "(3) Calcular o Polinómio num ponto\n",
    "(4) Calcular a derivada de um Polinómio\n",
    "(5) Simplificar um Polinómio\n",
    "(6) Ver a Tabela\n",
    "...\n",
    "(0) Sair\n",
    "    ''')\n",
    "menu()\n",
    "\n",
    "def escolha(polinomio):\n",
    "    opcao=int(input(\"Qual o número da operação que deseja fazer:\"))\n",
    "    if opcao==1:\n",
    "        termos=int(input(\"Quer um polinómio com quantos termos: \"))\n",
    "        poli=criarPolinomio()\n",
    "        while termos>0:\n",
    "            c=int(input(\"Diga qual o coeficiente do Termo:\"))\n",
    "            e=int(input(\"Diga qual o expoente do Termo: \"))\n",
    "            termo=criarTermo(c,e)\n",
    "            inserirTermo(poli,termo)\n",
    "            termos-=1\n",
    "        print(verPolinomio(poli))   \n",
    "        polinomio=poli\n",
    "    elif opcao==2: \n",
    "        print(grauPol(polinomio))\n",
    "    \n",
    "    elif opcao==3:\n",
    "        x=int(input(\"Indique o ponto aonde quer que seja calculado o Polinómio:\"))\n",
    "        print(calcPol(polinomio,x))\n",
    "    elif opcao==4:\n",
    "        print(verPolinomio(derivarPol(polinomio)))\n",
    "\n",
    "    elif opcao==5:\n",
    "        print(verPolinomio((simplificarPolinomio(polinomio))))\n",
    "        \n",
    "    elif opcao==6:\n",
    "        linhas=int(input(\"Introduza o número de linhas da tabela:\"))\n",
    "        tabela(polinomio,linhas)\n",
    "        \n",
    "    elif opcao==0:\n",
    "        return -1    \n",
    "    else:\n",
    "        print(\"Opção inválida!\")\n",
    "    escolha(polinomio)\n",
    "    \n",
    "pol=criarPolinomio()\n",
    "escolha(pol)  "
   ]
  },
  {
   "cell_type": "code",
   "execution_count": null,
   "metadata": {},
   "outputs": [],
   "source": [
    "def criarTermo(coef,exp):\n",
    "    return (coef,exp) \n",
    "\n",
    "def criarPolinomio(): \n",
    "    return []\n",
    "\n",
    "def inserirTermo(p,t): \n",
    "    p.append(t)\n"
   ]
  },
  {
   "cell_type": "code",
   "execution_count": null,
   "metadata": {},
   "outputs": [],
   "source": [
    "def verTermo(t):\n",
    "    c,e=t\n",
    "    if e==0:\n",
    "        return(str(c))\n",
    "    elif e==1:\n",
    "        return(str(c)+\"x\")\n",
    "    elif c==1:\n",
    "        return(\"x^\"+str(e))\n",
    "    else:\n",
    "        return(str(c)+\"x^\"+str(e)) \n",
    "\n",
    "def verPolinomio(p):  \n",
    "    politexto=\" \"\n",
    "    if len(p)!=0: \n",
    "        politexto=verTermo(p[0])\n",
    "        for i in range (1,len(p)):\n",
    "            if(p[i][0]>=0):\n",
    "                politexto=politexto + \"+\" + verTermo(p[i]) \n",
    "            else:\n",
    "                politexto=politexto + verTermo(p[i])\n",
    "    return(politexto)\n",
    "    "
   ]
  },
  {
   "cell_type": "code",
   "execution_count": null,
   "metadata": {},
   "outputs": [],
   "source": [
    "def grauPol(p):\n",
    "    grau=p[0][1] \n",
    "    for i in range (1,len(p)):\n",
    "        if (p[i][1]>grau):\n",
    "            grau=p[i][1]\n",
    "    return grau"
   ]
  },
  {
   "cell_type": "code",
   "execution_count": null,
   "metadata": {},
   "outputs": [],
   "source": [
    "def calcPol(p,x):\n",
    "    valor=0\n",
    "    for i in range (len(p)):\n",
    "        valor+=p[i][0]*(x**p[i][1])\n",
    "    return valor"
   ]
  },
  {
   "cell_type": "code",
   "execution_count": null,
   "metadata": {},
   "outputs": [],
   "source": [
    "def tabela(p,linhas):\n",
    "    print(\"x\"+\"::\"+ verPolinomio(p))\n",
    "    for l in range (0,linhas):\n",
    "        print(str(l)+\"::\"+ str(calcPol(p,l)))      \n",
    "    "
   ]
  },
  {
   "cell_type": "code",
   "execution_count": null,
   "metadata": {},
   "outputs": [],
   "source": [
    "def derivarPol(p):\n",
    "    derivada=[]\n",
    "    for (c,e) in p:\n",
    "        if e!= 0:\n",
    "            derivada.append((c*e,e-1))\n",
    "    return derivada\n",
    "    "
   ]
  },
  {
   "cell_type": "code",
   "execution_count": null,
   "metadata": {},
   "outputs": [],
   "source": [
    "def ordenarPol(p):\n",
    "    p.sort(key=critOrd,reverse=True) \n",
    "    \n",
    "def critOrd(t):\n",
    "    (c,e)=t\n",
    "    return e\n",
    "\n",
    "def simplificarPolinomio(p):\n",
    "    ordenarPol(p)\n",
    "    poln=[]\n",
    "    for j in range(1,len(p)):\n",
    "        c,e=p[j]\n",
    "        c0,e0=p[j-1]\n",
    "        if e0==e:\n",
    "            if(len(poln)>0 and poln[-1][1]==e):\n",
    "                del (poln[-1])\n",
    "                inserirTermo(poln,(c+c0,e))\n",
    "            else:\n",
    "                inserirTermo(poln,(c+c0,e))     \n",
    "        elif e0>e:\n",
    "            inserirTermo(poln,(c,e))\n",
    "    return(poln)\n",
    "            "
   ]
  }
 ],
 "metadata": {
  "kernelspec": {
   "display_name": "Python 3",
   "language": "python",
   "name": "python3"
  },
  "language_info": {
   "codemirror_mode": {
    "name": "ipython",
    "version": 3
   },
   "file_extension": ".py",
   "mimetype": "text/x-python",
   "name": "python",
   "nbconvert_exporter": "python",
   "pygments_lexer": "ipython3",
   "version": "3.8.3"
  }
 },
 "nbformat": 4,
 "nbformat_minor": 4
}
